{
 "cells": [
  {
   "cell_type": "markdown",
   "metadata": {},
   "source": [
    "# Cреды разработки\n",
    "\n",
    "Среда разработки имеет следующие возможности:\n",
    "* Подсвечивает код\n",
    "* Показывает ошибки и предупреждения. Ошибки - это то, что не дает программе компилироваться. Например, вызов несуществующей функции, забытое двоеточие в конце for. Предупреждения - потенциальные, вероятные ошибки. Например, вы завели переменную, но не используете ее.\n",
    "* Помогает отлаживать программу, т.е. программу можно выполнять построчно и следить за значениями переменных.\n",
    "* Рефакторинги - изменения кода, которые не меняют смысл кода. Например, переименование переменной.\n",
    "* Подсказывают варианты исправления ошибок\n",
    "* ... очень много других инструментов\n",
    "\n",
    "Это отличает среды разработки (IDE) от текстовых редакторов.\n",
    "\n",
    "IDE для Python очень много. Мы будем пользоваться продуктами фирмы JetBrains: PyCharm для python или IntelliJ IDEA для python и многих других языков. Вторая большая, громоздкая. Первая только для PyCharm.\n",
    "\n",
    "PyCharm, IDEA имеют бесплатные версии. Платные версии с большим количеством дополнительных возможностей тоже существуют, и они доступны всем студентам тоже бесплатно. (используйте адрес @students.spbu.ru)\n",
    "\n",
    "Продукты JetBrains «считаются» самыми интеллектуальными, они лучше всего понимают ваш код и показывают самые полезные подсказки.\n",
    "\n",
    "## Установка\n",
    "Можно просто загрузить PyCharm, лучше установить JetBrains Toolbox, и через него установить PyCharm."
   ]
  },
  {
   "cell_type": "markdown",
   "metadata": {},
   "source": [
    "# Лямбда выражения в python\n",
    "\n",
    "Это анонимные функции, с короткой записью.\n",
    "\n",
    "Вообще, в python функции - это «объекты первого рода», т.е. то, что можно хранить в переменных, передавать в функции и работать как со значениями любых других типов:"
   ]
  },
  {
   "cell_type": "code",
   "execution_count": 2,
   "metadata": {},
   "outputs": [
    {
     "name": "stdout",
     "output_type": "stream",
     "text": [
      "11\n",
      "20\n",
      "11\n"
     ]
    }
   ],
   "source": [
    "def f(x):\n",
    "    return x + 1\n",
    "\n",
    "def g(x):\n",
    "    return 2 * x\n",
    "\n",
    "# f и g можно использовать как значения типа Функция\n",
    "h = f # переменная h теперь тоже хранит значение типа ф-ия\n",
    "\n",
    "print(f(10))\n",
    "print(g(10))\n",
    "print(h(10))"
   ]
  },
  {
   "cell_type": "markdown",
   "metadata": {},
   "source": [
    "Пример, где функция передается как значение в другую функцию:\n"
   ]
  },
  {
   "cell_type": "code",
   "execution_count": 5,
   "metadata": {},
   "outputs": [
    {
     "name": "stdout",
     "output_type": "stream",
     "text": [
      "[10, 20, 34, 14, 55, 34]\n",
      "[10, 20, 34, 14, 34]\n",
      "[10, 20, 34, 14, 34]\n",
      "[20, 34, 14, 55, 34]\n",
      "[10, 20]\n"
     ]
    }
   ],
   "source": [
    "# было\n",
    "a = [10, 20, 34, 14, 55, 34]\n",
    "b = [x for x in a if x % 2 == 0]  # отберем четные\n",
    "c = [x for x in a if x > 10]   # отберем те, что больше 10\n",
    "d = [x for x in a if x % 10 == 0]   # делятся на 10\n",
    "\n",
    "# хотим сделать так, чтобы можно было отфильтровать\n",
    "# значения списка по условию:\n",
    "\n",
    "def filter(a, condition):  # condition условие \n",
    "    return [x for x in a if condition(x)]\n",
    "\n",
    "def is_even(x):\n",
    "    return x % 2 == 0\n",
    "\n",
    "b2 = filter(a, is_even)  # нужна функция, которая проверяет четность\n",
    "\n",
    "print(a)\n",
    "print(b)\n",
    "print(b2)\n",
    "\n",
    "# Можно не заводить функцию is_even отдельно, а\n",
    "# воспользоваться лямбда выражением.\n",
    "\n",
    "b3 = filter(a, lambda x: x % 2 == 0)\n",
    "\n",
    "# в общем случае: lambda аргументы: выражение\n",
    "# def безымянная-ф-ия(аргументы):\n",
    "#      return выражение\n",
    "\n",
    "c3 = filter(a, lambda x: x > 10)\n",
    "d3 = filter(a, lambda x: x % 10 == 0)\n",
    "\n",
    "print(c3)\n",
    "print(d3)"
   ]
  },
  {
   "cell_type": "markdown",
   "metadata": {},
   "source": [
    "Еще примеры:"
   ]
  },
  {
   "cell_type": "code",
   "execution_count": 9,
   "metadata": {},
   "outputs": [
    {
     "name": "stdout",
     "output_type": "stream",
     "text": [
      "11\n",
      "-1\n"
     ]
    }
   ],
   "source": [
    "f = lambda x: x + 1  # аналогично f, которую ввели в начале\n",
    "print(f(10))\n",
    "\n",
    "# два аргумента\n",
    "g = lambda x, y: x - y\n",
    "print(g(5, 6))"
   ]
  },
  {
   "cell_type": "markdown",
   "metadata": {},
   "source": [
    "# Генераторы\n",
    "\n",
    "Особый вид «функций», которые генерируют последовательности значений:"
   ]
  },
  {
   "cell_type": "code",
   "execution_count": 11,
   "metadata": {},
   "outputs": [
    {
     "name": "stdout",
     "output_type": "stream",
     "text": [
      "1 2\n",
      "1\n",
      "1\n"
     ]
    }
   ],
   "source": [
    "def gen1():\n",
    "    i = 0\n",
    "    while True:\n",
    "        i = i + 1\n",
    "        yield i  # (!) yield вместо return\n",
    "        \n",
    "# как пользоваться:\n",
    "g = gen1() # вызвали генератор, теперь он в переменной g\n",
    "a = next(g) # 1\n",
    "b = next(g) # 2\n",
    "\n",
    "# gen1 - это функция, которая возвращает генератор\n",
    "# g - значение типа \"генератор\"\n",
    "\n",
    "print(a, b)\n",
    "\n",
    "с = next(g) # 3 и т.д.\n",
    "\n",
    "# стандартная ошибка\n",
    "print(next(gen1()))  # 1\n",
    "print(next(gen1()))  # опять 1, а не 2"
   ]
  },
  {
   "cell_type": "code",
   "execution_count": 12,
   "metadata": {},
   "outputs": [
    {
     "name": "stdout",
     "output_type": "stream",
     "text": [
      "1\n",
      "1\n",
      "2\n",
      "3\n",
      "5\n",
      "8\n",
      "13\n"
     ]
    }
   ],
   "source": [
    "def fib():\n",
    "    x = 1\n",
    "    y = 1\n",
    "    while True:\n",
    "        yield x\n",
    "        x, y = y, x + y\n",
    "        \n",
    "f = fib()\n",
    "print(next(f))\n",
    "print(next(f))\n",
    "print(next(f))\n",
    "print(next(f))\n",
    "print(next(f))\n",
    "print(next(f))\n",
    "print(next(f))"
   ]
  },
  {
   "cell_type": "markdown",
   "metadata": {},
   "source": [
    "Пример генератора с конечным числом элементов:"
   ]
  },
  {
   "cell_type": "code",
   "execution_count": 16,
   "metadata": {},
   "outputs": [
    {
     "name": "stdout",
     "output_type": "stream",
     "text": [
      "10 11 20\n"
     ]
    },
    {
     "ename": "StopIteration",
     "evalue": "",
     "output_type": "error",
     "traceback": [
      "\u001B[0;31m---------------------------------------------------------------------------\u001B[0m",
      "\u001B[0;31mStopIteration\u001B[0m                             Traceback (most recent call last)",
      "\u001B[0;32m<ipython-input-16-548659d149d5>\u001B[0m in \u001B[0;36m<module>\u001B[0;34m\u001B[0m\n\u001B[1;32m      6\u001B[0m \u001B[0mg\u001B[0m \u001B[0;34m=\u001B[0m \u001B[0mgen2\u001B[0m\u001B[0;34m(\u001B[0m\u001B[0;36m10\u001B[0m\u001B[0;34m)\u001B[0m\u001B[0;34m\u001B[0m\u001B[0;34m\u001B[0m\u001B[0m\n\u001B[1;32m      7\u001B[0m \u001B[0mprint\u001B[0m\u001B[0;34m(\u001B[0m\u001B[0mnext\u001B[0m\u001B[0;34m(\u001B[0m\u001B[0mg\u001B[0m\u001B[0;34m)\u001B[0m\u001B[0;34m,\u001B[0m \u001B[0mnext\u001B[0m\u001B[0;34m(\u001B[0m\u001B[0mg\u001B[0m\u001B[0;34m)\u001B[0m\u001B[0;34m,\u001B[0m \u001B[0mnext\u001B[0m\u001B[0;34m(\u001B[0m\u001B[0mg\u001B[0m\u001B[0;34m)\u001B[0m\u001B[0;34m)\u001B[0m\u001B[0;34m\u001B[0m\u001B[0;34m\u001B[0m\u001B[0m\n\u001B[0;32m----> 8\u001B[0;31m \u001B[0mprint\u001B[0m\u001B[0;34m(\u001B[0m\u001B[0mnext\u001B[0m\u001B[0;34m(\u001B[0m\u001B[0mg\u001B[0m\u001B[0;34m)\u001B[0m\u001B[0;34m)\u001B[0m \u001B[0;31m# возникает ошибка StopIteration\u001B[0m\u001B[0;34m\u001B[0m\u001B[0;34m\u001B[0m\u001B[0m\n\u001B[0m",
      "\u001B[0;31mStopIteration\u001B[0m: "
     ]
    }
   ],
   "source": [
    "def gen2(a):  # получает на вход число\n",
    "    yield a\n",
    "    yield a + 1\n",
    "    yield a * 2\n",
    "    \n",
    "g = gen2(10)\n",
    "print(next(g), next(g), next(g))\n",
    "print(next(g)) # возникает ошибка StopIteration"
   ]
  },
  {
   "cell_type": "markdown",
   "metadata": {},
   "source": [
    "Если генератор конечный, можно по нему итерировать в циклах:"
   ]
  },
  {
   "cell_type": "code",
   "execution_count": 18,
   "metadata": {},
   "outputs": [
    {
     "name": "stdout",
     "output_type": "stream",
     "text": [
      "10\n",
      "11\n",
      "20\n"
     ]
    }
   ],
   "source": [
    "for x in gen2(10):  # gen2(10) создал генератор с 3 значениями\n",
    "    print(x)"
   ]
  },
  {
   "cell_type": "code",
   "execution_count": 20,
   "metadata": {},
   "outputs": [
    {
     "name": "stdout",
     "output_type": "stream",
     "text": [
      "['элемент 10', 'элемент 11', 'элемент 20']\n"
     ]
    }
   ],
   "source": [
    "a = [f\"элемент {x}\" for x in gen2(10)]\n",
    "print(a)"
   ]
  },
  {
   "cell_type": "code",
   "execution_count": 22,
   "metadata": {},
   "outputs": [
    {
     "name": "stdout",
     "output_type": "stream",
     "text": [
      "[20, 21, 40]\n"
     ]
    }
   ],
   "source": [
    "print(list(gen2(20)))  # list перебирает эл-ты и создает список"
   ]
  },
  {
   "cell_type": "markdown",
   "metadata": {},
   "source": [
    "Выражения-генераторы. Аналог генератора списка, множества, словаря:"
   ]
  },
  {
   "cell_type": "code",
   "execution_count": 32,
   "metadata": {},
   "outputs": [
    {
     "name": "stdout",
     "output_type": "stream",
     "text": [
      "[0, 0, 1, 1, 2, 2, 3, 3, 4, 4]\n",
      "{0, 1, 2, 3, 4}\n",
      "{0: 0, 1: 0, 2: 1, 3: 1, 4: 2, 5: 2, 6: 3, 7: 3, 8: 4, 9: 4}\n",
      "0 0 1 1 2\n",
      "[2, 3, 3, 4, 4]\n"
     ]
    }
   ],
   "source": [
    "a = [x // 2 for x in range(10)]  # список\n",
    "print(a)\n",
    "a = {x // 2 for x in range(10)}  # множество\n",
    "print(a)\n",
    "a = {x : x // 2 for x in range(10)}\n",
    "print(a)\n",
    "\n",
    "# Выражение генератор:\n",
    "a = (x // 2 for x in range(10))  # аналогично, но в круглых\n",
    "\n",
    "print(next(a), next(a), next(a), next(a), next(a))\n",
    "print(list(a))  # только оставшиеся элементы"
   ]
  },
  {
   "cell_type": "markdown",
   "metadata": {},
   "source": [
    "Бонус: элементы генератора вычисляются только по мере необходимости. В данном случае деление на 2 произойдет только когда вам понадобится очередной элемент.\n",
    "\n",
    "Также устроен range:\n",
    "`range(10000000)`, то в памяти не создается 10 млн. чисел, создается генератор, который постепенно выдает эти числа."
   ]
  }
 ],
 "metadata": {
  "kernelspec": {
   "name": "octave",
   "language": "octave",
   "display_name": "Octave"
  },
  "language_info": {
   "codemirror_mode": {
    "name": "ipython",
    "version": 3
   },
   "file_extension": ".py",
   "mimetype": "text/x-python",
   "name": "python",
   "nbconvert_exporter": "python",
   "pygments_lexer": "ipython3",
   "version": "3.7.3"
  }
 },
 "nbformat": 4,
 "nbformat_minor": 4
}