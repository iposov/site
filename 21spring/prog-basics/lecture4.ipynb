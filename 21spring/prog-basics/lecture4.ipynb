{
 "cells": [
  {
   "cell_type": "markdown",
   "metadata": {
    "collapsed": true,
    "pycharm": {
     "name": "#%% md\n"
    }
   },
   "source": [
    "# Объектно-ориентированное программирование\n",
    "\n",
    "Объект - это данные, они хранятся в переменных,\n",
    "которые у объектов называются **полями**.\n",
    "И это поведение, функции, которые совершают действия,\n",
    "используя данные объекта, называются **методами**."
   ]
  },
  {
   "cell_type": "code",
   "execution_count": 10,
   "outputs": [],
   "source": [
    "class Student:\n",
    "    name = \"\"\n",
    "    course = 0"
   ],
   "metadata": {
    "collapsed": false,
    "pycharm": {
     "name": "#%%\n"
    }
   }
  },
  {
   "cell_type": "markdown",
   "source": [
    "Класс студент можно понимать как новый тип данных.\n",
    "В значениях этого типа хранятся два значения:\n",
    "строка с именем и число с номером курса.\n",
    "Т.е. теперь кроме типов int, str, list, есть еще\n",
    "Student.\n",
    "\n",
    "Создание значения типа Student. Для создания объекта\n",
    "вызываем класс как будто это функция."
   ],
   "metadata": {
    "collapsed": false,
    "pycharm": {
     "name": "#%% md\n"
    }
   }
  },
  {
   "cell_type": "code",
   "execution_count": 11,
   "outputs": [],
   "source": [
    "ivanov = Student()  # 1-ый объект\n",
    "petrov = Student()  # 2-ой объект"
   ],
   "metadata": {
    "collapsed": false,
    "pycharm": {
     "name": "#%%\n"
    }
   }
  },
  {
   "cell_type": "markdown",
   "source": [
    "## Поля\n",
    "\n",
    "Мы создали в памяти два объекта, для каждого\n",
    "выделено место, чтобы хранить переменные (поля)\n",
    "name и course.\n",
    "\n",
    "Переменная (поле) `name` существует в памяти в двух\n",
    "местах, потому что мы создали два объекта.\n",
    "Аналогично, переменная `course`.\n",
    "\n",
    "Если присвоить переменные, не создавая объекта, то,\n",
    "конечно, новый объект и не создастся:"
   ],
   "metadata": {
    "collapsed": false
   }
  },
  {
   "cell_type": "code",
   "execution_count": 12,
   "outputs": [],
   "source": [
    "ivanov1 = ivanov  # не появляется нового объекта"
   ],
   "metadata": {
    "collapsed": false,
    "pycharm": {
     "name": "#%%\n"
    }
   }
  },
  {
   "cell_type": "markdown",
   "source": [
    "Как обратиться к значению в поле `name`. Это можно\n",
    "сделать только указав дополнительно конкретный\n",
    "объект с этим полем. Синтаксис:\n",
    "`объект.поле`. Т.е. доступ через точку"
   ],
   "metadata": {
    "collapsed": false,
    "pycharm": {
     "name": "#%% md\n"
    }
   }
  },
  {
   "cell_type": "code",
   "execution_count": 14,
   "outputs": [
    {
     "name": "stdout",
     "output_type": "stream",
     "text": [
      "Иванов\n",
      "<__main__.Student object at 0x7f94238b0128>\n",
      "2\n",
      "Иванов\n"
     ]
    }
   ],
   "source": [
    "# записываем значения\n",
    "ivanov.name = \"Иванов\"\n",
    "petrov.name = \"Петров\"\n",
    "ivanov.course = 1\n",
    "petrov.course = 2\n",
    "# читаем значения\n",
    "print(ivanov.name)\n",
    "print(ivanov) # интересно, что будет?\n",
    "print(petrov.course)\n",
    "print(ivanov1.name)  # аналогично ivanov"
   ],
   "metadata": {
    "collapsed": false,
    "pycharm": {
     "name": "#%%\n"
    }
   }
  },
  {
   "cell_type": "markdown",
   "source": [
    "`ivanov` и `ivanov1` указывают на один\n",
    "и тот же объект, поэтому и `name` для них одинаковый.\n",
    "\n",
    "Еще видно, что при распечатке объекта распечаталось\n",
    "его название (`__main__.Student`) потом object at\n",
    "и адрес в памяти.\n",
    "Можно переопределить поведение и заставить студентов\n",
    "при распечатке писать что-то свое, но это позже.\n",
    "\n",
    "Еще важная особенность питона, все поля объекта необязательно описывать в классе заранее:"
   ],
   "metadata": {
    "collapsed": false,
    "pycharm": {
     "name": "#%% md\n"
    }
   }
  },
  {
   "cell_type": "code",
   "execution_count": 15,
   "outputs": [
    {
     "name": "stdout",
     "output_type": "stream",
     "text": [
      "5\n"
     ]
    }
   ],
   "source": [
    "# поставим оценку за курс по программированию\n",
    "ivanov.programming = 5\n",
    "print(ivanov.programming)"
   ],
   "metadata": {
    "collapsed": false,
    "pycharm": {
     "name": "#%%\n"
    }
   }
  },
  {
   "cell_type": "markdown",
   "source": [
    "Получается, что мы воспользовались полем, которое\n",
    "не было описано в классе. В python это совершенно\n",
    "нормально (В JavaScript аналогично). А вот в Java\n",
    "так нельзя, можно пользоваться только теми полями,\n",
    "которые явно были описаны в классе.\n",
    "\n",
    "Поля `name` и `course`, которые мы описывали в классе,\n",
    "на самом деле нужны не для того, чтобы сказать,\n",
    "что есть такие поля, а для того, чтобы задать им\n",
    "начальные значения. Т.е. каждый раз при создании\n",
    "объекта вместе с объектом будут создаваться поля\n",
    "`name` и `course` со значениями, соответственно,\n",
    "`\"\"` и `0`.\n",
    "\n",
    "Рекомендую все-таки заранее описывать поля,\n",
    "которыми вы планируете пользоваться, так программу\n",
    "проще читать и понимать. Еще создание полей по ходу\n",
    "программы может приводить к ошибкам:"
   ],
   "metadata": {
    "collapsed": false,
    "pycharm": {
     "name": "#%% md\n"
    }
   }
  },
  {
   "cell_type": "code",
   "execution_count": 16,
   "outputs": [
    {
     "name": "stdout",
     "output_type": "stream",
     "text": [
      "Иванов\n"
     ]
    }
   ],
   "source": [
    "ivanov.nаme = \"ИВАНОВ\"  # русское a в слове 'name'\n",
    "print(ivanov.name)  # показывает Иванов, а не ИВАНОВ"
   ],
   "metadata": {
    "collapsed": false,
    "pycharm": {
     "name": "#%%\n"
    }
   }
  },
  {
   "cell_type": "markdown",
   "source": [
    "опечатки трудно заметить, но Python просто будет\n",
    "считать, что это другое поле.\n",
    "\n",
    "## Методы\n",
    "\n",
    "у объектов есть функции, которые пользуются данными\n",
    "объекта. Например, студентов можно просить\n",
    "поздороваться и представиться. Т.е. мы хотим, чтобы\n",
    "Иванов сказал: \"Здравствуйте, я Иванов, я учусь\n",
    "на 1 курсе\". А Петров: \"Здравствуйте, я Петров,\n",
    "я учусь на 2 курсе\".\n",
    "\n",
    "Это должно выглядеть так:"
   ],
   "metadata": {
    "collapsed": false,
    "pycharm": {
     "name": "#%% md\n"
    }
   }
  },
  {
   "cell_type": "code",
   "execution_count": 17,
   "outputs": [
    {
     "ename": "AttributeError",
     "evalue": "'Student' object has no attribute 'sayHello'",
     "output_type": "error",
     "traceback": [
      "\u001B[0;31m---------------------------------------------------------------------------\u001B[0m",
      "\u001B[0;31mAttributeError\u001B[0m                            Traceback (most recent call last)",
      "\u001B[0;32m<ipython-input-17-9c05d204402e>\u001B[0m in \u001B[0;36m<module>\u001B[0;34m\u001B[0m\n\u001B[0;32m----> 1\u001B[0;31m \u001B[0mivanov\u001B[0m\u001B[0;34m.\u001B[0m\u001B[0msayHello\u001B[0m\u001B[0;34m(\u001B[0m\u001B[0;34m)\u001B[0m\u001B[0;34m\u001B[0m\u001B[0;34m\u001B[0m\u001B[0m\n\u001B[0m\u001B[1;32m      2\u001B[0m \u001B[0mpetrov\u001B[0m\u001B[0;34m.\u001B[0m\u001B[0msayHello\u001B[0m\u001B[0;34m(\u001B[0m\u001B[0;34m)\u001B[0m\u001B[0;34m\u001B[0m\u001B[0;34m\u001B[0m\u001B[0m\n\u001B[1;32m      3\u001B[0m \u001B[0;34m\u001B[0m\u001B[0m\n",
      "\u001B[0;31mAttributeError\u001B[0m: 'Student' object has no attribute 'sayHello'"
     ]
    }
   ],
   "source": [
    "ivanov.sayHello()\n",
    "petrov.sayHello()"
   ],
   "metadata": {
    "collapsed": false,
    "pycharm": {
     "name": "#%%\n"
    }
   }
  },
  {
   "cell_type": "markdown",
   "source": [
    "Это пока не работает, но получатся, что мы хотим,\n",
    "чтобы метод `sayHello` работал по-разному для\n",
    "разных объектов.\n",
    "\n",
    "Сначала напишем код, потом обсудим:"
   ],
   "metadata": {
    "collapsed": false,
    "pycharm": {
     "name": "#%% md\n"
    }
   }
  },
  {
   "cell_type": "code",
   "execution_count": 23,
   "outputs": [
    {
     "name": "stdout",
     "output_type": "stream",
     "text": [
      "Здравствуйте, я Иванов,\n",
      "я учусь на 1 курсе\n",
      "Здравствуйте, я Петров,\n",
      "я учусь на 2 курсе\n",
      "Здравствуйте, я Иванов,\n",
      "я учусь на 1 курсе\n",
      "Здравствуйте, я Петров,\n",
      "я учусь на 2 курсе\n"
     ]
    }
   ],
   "source": [
    "class Student:\n",
    "    name = \"\"\n",
    "    course = 0\n",
    "\n",
    "    def say_hello(self):\n",
    "        print(f\"Здравствуйте, я {self.name}, я учусь на {self.course} курсе\")\n",
    "\n",
    "\n",
    "ivanov = Student()\n",
    "ivanov.name = \"Иванов\"\n",
    "ivanov.course = 1\n",
    "\n",
    "petrov = Student()\n",
    "petrov.name = \"Петров\"\n",
    "petrov.course = 2\n",
    "\n",
    "ivanov.say_hello()\n",
    "petrov.say_hello()\n",
    "\n",
    "# полная версия двух предыдущих строк\n",
    "# эти версии эквиваленты\n",
    "Student.say_hello(ivanov)\n",
    "Student.say_hello(petrov)"
   ],
   "metadata": {
    "collapsed": false,
    "pycharm": {
     "name": "#%%\n"
    }
   }
  },
  {
   "cell_type": "markdown",
   "source": [
    "В обоих способах вызова метода sayHello:\n",
    "У класса Student вызывается функция sayHello и\n",
    "передаем, для какого объекта надо выполнить эту\n",
    "функцию. Параметр для указания объекта принято\n",
    "называть `self`, хотя, теоретически, можно иначе.\n",
    "\n",
    "При первом вызове `self = ivanov` (присваивается),\n",
    "при втором — `self = petrov`.\n",
    "\n",
    "Еще пример метода, пусть студент идет в столовую."
   ],
   "metadata": {
    "collapsed": false,
    "pycharm": {
     "name": "#%% md\n"
    }
   }
  },
  {
   "cell_type": "code",
   "execution_count": 26,
   "outputs": [
    {
     "name": "stdout",
     "output_type": "stream",
     "text": [
      "Здравствуйте, я Иванов, я учусь на 1 курсе\n",
      "Съел сникерс\n",
      "Здравствуйте, я Петров, я учусь на 2 курсе\n",
      "Съел пирожок\n"
     ]
    }
   ],
   "source": [
    "class Student:\n",
    "    name = \"\"\n",
    "    course = 0\n",
    "\n",
    "    def say_hello(self):\n",
    "        print(f\"Здравствуйте, я {self.name}, я учусь на {self.course} курсе\")\n",
    "\n",
    "    def go_to_eat(self, money):\n",
    "        if money < 50:\n",
    "            print(\"Увы, нечего есть\")\n",
    "        elif money < 100:\n",
    "            if self.course == 1:\n",
    "                print(\"Съел сникерс\")\n",
    "            else:\n",
    "                print(\"Съел пирожок\")\n",
    "        else:\n",
    "            print(\"Съел суп\")\n",
    "\n",
    "ivanov = Student()\n",
    "ivanov.name = \"Иванов\"\n",
    "ivanov.course = 1\n",
    "\n",
    "petrov = Student()\n",
    "petrov.name = \"Петров\"\n",
    "petrov.course = 2\n",
    "\n",
    "ivanov.say_hello()\n",
    "ivanov.go_to_eat(99)  # Student.go_to_eat(ivanov, 99)\n",
    "petrov.say_hello()\n",
    "petrov.go_to_eat(99)  # Student.go_to_eat(petrov, 99)"
   ],
   "metadata": {
    "collapsed": false,
    "pycharm": {
     "name": "#%%\n"
    }
   }
  },
  {
   "cell_type": "markdown",
   "source": [
    "### Магические методы\n",
    "Можно описать некоторые методы, которые имеют особое поведение.\n",
    "Такие методы в названии начинаются и заканчиваются на два\n",
    "подчеркивания:"
   ],
   "metadata": {
    "collapsed": false,
    "pycharm": {
     "name": "#%% md\n"
    }
   }
  },
  {
   "cell_type": "code",
   "execution_count": 33,
   "outputs": [
    {
     "name": "stdout",
     "output_type": "stream",
     "text": [
      "Здравствуйте, я Иванов, я учусь на 1 курсе\n",
      "Здравствуйте, я Петров, я учусь на 2 курсе\n",
      "Студент Иванов с 1 курса\n",
      "Студент Петров с 2 курса\n",
      "0\n",
      "0\n",
      "Студент Иванов с 1 курса\n"
     ]
    }
   ],
   "source": [
    "class Student:\n",
    "\n",
    "    # поля больше не описываем, они создадутся в конструкторе\n",
    "\n",
    "    # Этот метод вызывается при создании объекта,\n",
    "    # он называется конструктор\n",
    "    def __init__(self, name, course):\n",
    "        # создаю поле self.name\n",
    "        self.name = name\n",
    "        self.course = course\n",
    "\n",
    "    def say_hello(self):\n",
    "        print(f\"Здравствуйте, я {self.name}, я учусь на {self.course} курсе\")\n",
    "\n",
    "    # вызывается из функции str()\n",
    "    def __str__(self):\n",
    "        return f\"Студент {self.name} с {self.course} курса\"\n",
    "\n",
    "    # вызывается из функции len.\n",
    "    # Для студента нет смысла вводить длину, но мы введем\n",
    "    def __len__(self):\n",
    "        return 0\n",
    "\n",
    "ivanov = Student(\"Иванов\", 1)\n",
    "petrov = Student(\"Петров\", 2)\n",
    "\n",
    "ivanov.say_hello()\n",
    "petrov.say_hello()\n",
    "\n",
    "print(str(ivanov))\n",
    "print(str(petrov))\n",
    "print(len(ivanov))\n",
    "print(len(petrov))\n",
    "\n",
    "# так, конечно, тоже можно, но зачем?\n",
    "print(ivanov.__str__())"
   ],
   "metadata": {
    "collapsed": false,
    "pycharm": {
     "name": "#%%\n"
    }
   }
  },
  {
   "cell_type": "code",
   "execution_count": null,
   "outputs": [],
   "source": [],
   "metadata": {
    "collapsed": false,
    "pycharm": {
     "name": "#%%\n"
    }
   }
  }
 ],
 "metadata": {
  "kernelspec": {
   "display_name": "Python 3",
   "language": "python",
   "name": "python3"
  },
  "language_info": {
   "codemirror_mode": {
    "name": "ipython",
    "version": 2
   },
   "file_extension": ".py",
   "mimetype": "text/x-python",
   "name": "python",
   "nbconvert_exporter": "python",
   "pygments_lexer": "ipython2",
   "version": "2.7.6"
  }
 },
 "nbformat": 4,
 "nbformat_minor": 0
}