{
 "cells": [
  {
   "cell_type": "code",
   "execution_count": 1,
   "metadata": {
    "pycharm": {
     "name": "#%%\n"
    }
   },
   "outputs": [
    {
     "data": {
      "text/plain": [
       "4"
      ]
     },
     "execution_count": 1,
     "metadata": {},
     "output_type": "execute_result"
    }
   ],
   "source": [
    "2 + 2"
   ]
  },
  {
   "cell_type": "code",
   "execution_count": 3,
   "metadata": {
    "pycharm": {
     "name": "#%%\n"
    }
   },
   "outputs": [
    {
     "name": "stdout",
     "output_type": "stream",
     "text": [
      "asdf!\n"
     ]
    }
   ],
   "source": [
    "print(\"asdf!\")"
   ]
  },
  {
   "cell_type": "code",
   "execution_count": 5,
   "metadata": {},
   "outputs": [
    {
     "name": "stdout",
     "output_type": "stream",
     "text": [
      "0\n",
      "1\n",
      "2\n",
      "3\n",
      "4\n",
      "5\n",
      "6\n",
      "7\n",
      "8\n",
      "9\n",
      "10\n"
     ]
    }
   ],
   "source": [
    "for i in range(11):\n",
    "    print(i)"
   ]
  },
  {
   "cell_type": "markdown",
   "metadata": {},
   "source": [
    "# Hello\n",
    "123 привет **привет** $\\frac1{x+y}$"
   ]
  },
  {
   "cell_type": "code",
   "execution_count": 7,
   "metadata": {},
   "outputs": [
    {
     "data": {
      "text/plain": [
       "[<matplotlib.lines.Line2D at 0x7f0d240f3ba8>]"
      ]
     },
     "execution_count": 7,
     "metadata": {},
     "output_type": "execute_result"
    },
    {
     "data": {
      "image/png": "[encoded data removed]",
      "text/plain": [
       "<Figure size 432x288 with 1 Axes>"
      ]
     },
     "metadata": {
      "needs_background": "light"
     },
     "output_type": "display_data"
    }
   ],
   "source": [
    "from matplotlib import pyplot as pp\n",
    "\n",
    "pp.plot([1, 2, 3], [10, 30, 20])"
   ]
  },
  {
   "cell_type": "code",
   "execution_count": null,
   "metadata": {
    "pycharm": {
     "name": "#%%\n"
    }
   },
   "outputs": [],
   "source": [
    "\n",
    "\n",
    "import a\n",
    "\n",
    "print(a.var_from_a_py)\n",
    "\n",
    "from a import fun_from_a_py\n",
    "\n",
    "fun_from_a_py()\n",
    "a.fun_from_a_py()"
   ]
  },
  {
   "cell_type": "markdown",
   "source": [
    "# Hello\n",
    "$\\sqrt{2 + x}$"
   ],
   "metadata": {
    "collapsed": false
   }
  },
  {
   "cell_type": "markdown",
   "source": [
    "# Условие задачи о законе Ципфа\n",
    "\n",
    "Дан текст (с lib.ru), в нем есть\n",
    "русские слова.\n",
    "Разбейте текст на слова с помощью nltk.\n",
    "(попробуйте погуглить примеры\n",
    "tokenizer в nltk)\n",
    "Получите список слов\n",
    "['Однажды', 'в', 'студеную', ...]\n",
    "\n",
    "Дальше считаем частоты слов.\n",
    "в: 100\n",
    "однажды: 10\n",
    "огурец: 1\n",
    "\n",
    "Считать частоты тоже можно с помощью NLTK.\n",
    "Там есть объект FreqDict\n",
    "d = FreqDist(список слов)\n",
    "Только нужно заранее\n",
    " - хотя бы привести все слова к нижнему\n",
    " регистру\n",
    " - в идеале еще и начальной форме (морфологической)\n",
    " через pymorphy\n",
    "\n",
    "Закон Ципфа (Zipf) говорит о распределении\n",
    "частот слов. Отсортируем слова в порядке\n",
    "убывания частоты:\n",
    "```\n",
    "rank слово frequency\n",
    "1    в     100000\n",
    "2    и     50000\n",
    "3    у     30000\n",
    "4    кот   10000\n",
    "...\n",
    "100 однажды 10\n",
    "```\n",
    "\n",
    "Добавим ранг, номер слова в списке частот.\n",
    "Он написан перед словом\n",
    "\n",
    "Закон Ципфа говорит, что\n",
    "frequency = C / rank\n",
    "\n",
    "Нужно нарисовать график по оси X rank,\n",
    "по Y частота. Он должен быть похож\n",
    "на гиперболу ($y = \\frac1x$)\n",
    "\n",
    "Возьмем логарифм от обеих частей\n",
    "$\\log(frequency) = \\log(C / rank)$\n",
    "Упростим\n",
    "$\\log(frequency) = \\log(C) - \\log(rank)$\n",
    "\n",
    "И нарисуем график в осях\n",
    "\n",
    "$y = \\log(frequency)$\n",
    "\n",
    "$x = \\log(rank)$\n",
    "\n",
    "Получим график\n",
    "$y = D - x$\n",
    "\n",
    "Для слова `в` ставим точку\n",
    "$x = \\log(1) = 0$, $y = \\log(100000)$.\n",
    "и т.д.\n",
    "\n",
    "```\n",
    "from matplotlib import pyplot as pp\n",
    "pp.plot([x координаты], [y координаты])\n",
    "```\n",
    "\n",
    "Дополнительно: использовать numpy, pp.plot\n",
    "умеет работать с массивами из numpy"
   ],
   "metadata": {
    "collapsed": false,
    "pycharm": {
     "name": "#%% md\n"
    }
   }
  }
 ],
 "metadata": {
  "kernelspec": {
   "display_name": "Python 3",
   "language": "python",
   "name": "python3"
  },
  "language_info": {
   "codemirror_mode": {
    "name": "ipython",
    "version": 3
   },
   "file_extension": ".py",
   "mimetype": "text/x-python",
   "name": "python",
   "nbconvert_exporter": "python",
   "pygments_lexer": "ipython3",
   "version": "3.7.3"
  }
 },
 "nbformat": 4,
 "nbformat_minor": 4
}