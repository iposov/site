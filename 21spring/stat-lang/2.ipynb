{
 "cells": [
  {
   "cell_type": "code",
   "execution_count": 1,
   "metadata": {
    "collapsed": true
   },
   "outputs": [
    {
     "data": {
      "text/plain": "4"
     },
     "execution_count": 1,
     "metadata": {},
     "output_type": "execute_result"
    }
   ],
   "source": [
    "2 + 2"
   ]
  },
  {
   "cell_type": "code",
   "execution_count": 2,
   "outputs": [
    {
     "data": {
      "text/plain": "3"
     },
     "execution_count": 2,
     "metadata": {},
     "output_type": "execute_result"
    }
   ],
   "source": [
    "1 + 2"
   ],
   "metadata": {
    "collapsed": false,
    "pycharm": {
     "name": "#%%\n"
    }
   }
  },
  {
   "cell_type": "code",
   "execution_count": 3,
   "outputs": [
    {
     "data": {
      "text/plain": "'a+b+c'"
     },
     "execution_count": 3,
     "metadata": {},
     "output_type": "execute_result"
    }
   ],
   "source": [
    "'+'.join(\"abc\")"
   ],
   "metadata": {
    "collapsed": false,
    "pycharm": {
     "name": "#%%\n"
    }
   }
  },
  {
   "cell_type": "markdown",
   "source": [
    "Прочитать текст из файла, вывести\n",
    "список слов. Несколько строчек на NLTK.\n",
    "\n",
    "До 9-45."
   ],
   "metadata": {
    "collapsed": false,
    "pycharm": {
     "name": "#%% md\n"
    }
   }
  },
  {
   "cell_type": "code",
   "execution_count": 15,
   "outputs": [
    {
     "name": "stdout",
     "output_type": "stream",
     "text": [
      "[3 4 5]\n",
      "[3 4 5]\n"
     ]
    }
   ],
   "source": [
    "import numpy as np\n",
    "\n",
    "# создание массива\n",
    "l = [\"abc\", \"aaaa\", \"fffda\"]\n",
    "a = np.array([10, 20, 30])\n",
    "a = np.array([len(word) for word in l])\n",
    "print(a)\n",
    "b = np.array([len(word) for word in l])\n",
    "print(b)"
   ],
   "metadata": {
    "collapsed": false,
    "pycharm": {
     "name": "#%%\n"
    }
   }
  },
  {
   "cell_type": "code",
   "execution_count": 17,
   "outputs": [
    {
     "name": "stdout",
     "output_type": "stream",
     "text": [
      "[0.47712125 0.60205999 0.69897   ]\n",
      "[0.47712125 0.60205999 0.69897   ]\n"
     ]
    }
   ],
   "source": [
    "# сделать вычисление со всеми элементами\n",
    "# массива. В python - цикл. В numpy -\n",
    "# одна операция\n",
    "alog = np.log10(a)\n",
    "print(alog)\n",
    "blog = np.log10(b)\n",
    "print(blog)"
   ],
   "metadata": {
    "collapsed": false,
    "pycharm": {
     "name": "#%%\n"
    }
   }
  },
  {
   "cell_type": "code",
   "execution_count": 20,
   "outputs": [
    {
     "data": {
      "text/plain": "[<matplotlib.lines.Line2D at 0x7f258299c470>]"
     },
     "execution_count": 20,
     "metadata": {},
     "output_type": "execute_result"
    },
    {
     "data": {
      "text/plain": "<Figure size 432x288 with 1 Axes>",
      "image/png": "[encoded data removed]"
     },
     "metadata": {
      "needs_background": "light"
     },
     "output_type": "display_data"
    }
   ],
   "source": [
    "from matplotlib import pyplot\n",
    "\n",
    "# o означает рисование точек\n",
    "pyplot.plot(alog, blog, 'o')"
   ],
   "metadata": {
    "collapsed": false,
    "pycharm": {
     "name": "#%%\n"
    }
   }
  },
  {
   "cell_type": "code",
   "execution_count": 35,
   "outputs": [
    {
     "name": "stdout",
     "output_type": "stream",
     "text": [
      "3.999999999999999\n",
      "[1.03]\n"
     ]
    }
   ],
   "source": [
    "# https://matplotlib.org/stable/api/_as_gen/matplotlib.pyplot.plot.html\n",
    "\n",
    "\n",
    "# 9:10 - 10:40\n",
    "# 11:00 - 12:30\n"
   ],
   "metadata": {
    "collapsed": false,
    "pycharm": {
     "name": "#%%\n"
    }
   }
  },
  {
   "cell_type": "markdown",
   "source": [
    "# Линейная регрессия\n",
    "\n",
    "У нас есть набор точек, которые лежат\n",
    "примерно на одной прямой. Хотим восстановить\n",
    "эту прямую.\n",
    "\n",
    "Вообще, это задача машинного обучения.\n",
    "Даны значения x и y\n",
    "x - это log(rank), y - это log(частоты)\n",
    "Хотим по x (по rank) определять y (частоту)\n",
    "слова в конкретном тексте. Если нужно обучаться\n",
    "угадывать число, то это называется задачей\n",
    "регресии. (еще бывает задача классификации,\n",
    "угадываем класс - т.е. один из элементов мн-ва)\n",
    "\n",
    "Задача линейной регрессии формулируетя так:\n",
    "y = b + k * x + err(случайная ошибка)\n",
    "чтобы угадать y, надо вычислить линейную ф-ию.\n",
    "Необходимо подобрать b, k, чтобы вероятность\n",
    "получить именно те y, которые у нас, была бы\n",
    "максимальна.\n",
    "Можно переформулировать проще (если err\n",
    "нормально распределены), мы хотим, чтобы\n",
    "сумма квадратов ошибок была минимальна."
   ],
   "metadata": {
    "collapsed": false,
    "pycharm": {
     "name": "#%% md\n"
    }
   }
  },
  {
   "cell_type": "code",
   "execution_count": 84,
   "outputs": [
    {
     "name": "stdout",
     "output_type": "stream",
     "text": [
      "[ 1  2  3  4  5  6  7  8  9 10] [ 6  7  8  9 10 11 12 13 14 15]\n"
     ]
    }
   ],
   "source": [
    "import numpy as np\n",
    "x = np.array([1, 2, 3, 4, 5, 6, 7, 8, 9, 10])\n",
    "k = 1\n",
    "b = 5\n",
    "y = b + k*x\n",
    "print(x, y)\n",
    "\n",
    "y = y + np.random.normal(0, 0.4, len(x))"
   ],
   "metadata": {
    "collapsed": false,
    "pycharm": {
     "name": "#%%\n"
    }
   }
  },
  {
   "cell_type": "code",
   "execution_count": 85,
   "outputs": [
    {
     "data": {
      "text/plain": "<matplotlib.collections.PathCollection at 0x7f25800faac8>"
     },
     "execution_count": 85,
     "metadata": {},
     "output_type": "execute_result"
    },
    {
     "data": {
      "text/plain": "<Figure size 432x288 with 1 Axes>",
      "image/png": "[encoded data removed]"
     },
     "metadata": {
      "needs_background": "light"
     },
     "output_type": "display_data"
    }
   ],
   "source": [
    "from matplotlib import pyplot as pp\n",
    "\n",
    "pp.scatter(x, y)"
   ],
   "metadata": {
    "collapsed": false,
    "pycharm": {
     "name": "#%%\n"
    }
   }
  },
  {
   "cell_type": "code",
   "execution_count": 86,
   "outputs": [
    {
     "name": "stdout",
     "output_type": "stream",
     "text": [
      "k =  [0.96989245]\n",
      "b =  5.326809262856059\n"
     ]
    }
   ],
   "source": [
    "# используем scikit-learn библиотеку\n",
    "from sklearn.linear_model import LinearRegression\n",
    "\n",
    "reg = LinearRegression()\n",
    "# reg будет решать задачу, подбирать k, b\n",
    "# в fit передаем данные для обучения. x, y\n",
    "# x должен быть двумерным, потому что\n",
    "# y = b + k1*x1 + k2*x2 + ... + kn*xn + err\n",
    "X = x.reshape(-1, 1)\n",
    "reg.fit(X, y)\n",
    "print('k = ', reg.coef_)\n",
    "print('b = ', reg.intercept_)"
   ],
   "metadata": {
    "collapsed": false,
    "pycharm": {
     "name": "#%%\n"
    }
   }
  },
  {
   "cell_type": "code",
   "execution_count": 87,
   "outputs": [
    {
     "name": "stdout",
     "output_type": "stream",
     "text": [
      "[ 1  2  3  4  5  6  7  8  9 10]\n",
      "[[ 1]\n",
      " [ 2]\n",
      " [ 3]\n",
      " [ 4]\n",
      " [ 5]\n",
      " [ 6]\n",
      " [ 7]\n",
      " [ 8]\n",
      " [ 9]\n",
      " [10]]\n"
     ]
    }
   ],
   "source": [
    "print(x)\n",
    "print(x.reshape(-1, 1))"
   ],
   "metadata": {
    "collapsed": false,
    "pycharm": {
     "name": "#%%\n"
    }
   }
  },
  {
   "cell_type": "code",
   "execution_count": 88,
   "outputs": [
    {
     "name": "stdout",
     "output_type": "stream",
     "text": [
      "[ 6.29670171  7.26659416  8.2364866   9.20637905 10.17627149 11.14616394\n",
      " 12.11605639 13.08594883 14.05584128 15.02573372]\n"
     ]
    }
   ],
   "source": [
    "# попробуем нарисовать. Нужно вычислить k*x + b\n",
    "# reg.coef_ * x + reg.intercept_\n",
    "yPred = reg.predict(X)\n",
    "print(yPred)"
   ],
   "metadata": {
    "collapsed": false,
    "pycharm": {
     "name": "#%%\n"
    }
   }
  },
  {
   "cell_type": "code",
   "execution_count": 91,
   "outputs": [
    {
     "data": {
      "text/plain": "[<matplotlib.lines.Line2D at 0x7f2580063eb8>,\n <matplotlib.lines.Line2D at 0x7f2580088748>]"
     },
     "execution_count": 91,
     "metadata": {},
     "output_type": "execute_result"
    },
    {
     "data": {
      "text/plain": "<Figure size 432x288 with 1 Axes>",
      "image/png": "[encoded data removed]"
     },
     "metadata": {
      "needs_background": "light"
     },
     "output_type": "display_data"
    }
   ],
   "source": [
    "pyplot.plot(x, y, 'or', x, yPred)"
   ],
   "metadata": {
    "collapsed": false,
    "pycharm": {
     "name": "#%%\n"
    }
   }
  },
  {
   "cell_type": "code",
   "execution_count": null,
   "outputs": [],
   "source": [],
   "metadata": {
    "collapsed": false,
    "pycharm": {
     "name": "#%%\n"
    }
   }
  }
 ],
 "metadata": {
  "kernelspec": {
   "name": "python3",
   "language": "python",
   "display_name": "Python 3"
  },
  "language_info": {
   "codemirror_mode": {
    "name": "ipython",
    "version": 2
   },
   "file_extension": ".py",
   "mimetype": "text/x-python",
   "name": "python",
   "nbconvert_exporter": "python",
   "pygments_lexer": "ipython2",
   "version": "2.7.6"
  }
 },
 "nbformat": 4,
 "nbformat_minor": 0
}