{
 "cells": [
  {
   "cell_type": "markdown",
   "metadata": {},
   "source": [
    "# Изучаем python"
   ]
  },
  {
   "cell_type": "markdown",
   "metadata": {},
   "source": [
    "Краткая история. Python 2 закончилась поддержка в 2020. В 2008 появился python 3, его и будем изучать."
   ]
  },
  {
   "cell_type": "markdown",
   "metadata": {},
   "source": [
    "## Установка python"
   ]
  },
  {
   "cell_type": "markdown",
   "metadata": {},
   "source": [
    "С сайта python.org установите последнюю версию. Установится сам python и среда разработки IDLE для него."
   ]
  },
  {
   "cell_type": "markdown",
   "metadata": {},
   "source": [
    "## Способы работы с python"
   ]
  },
  {
   "cell_type": "markdown",
   "metadata": {},
   "source": [
    "Интерактивный способ работы с python - работа в консоли python. Открывается при запуске IDLE."
   ]
  },
  {
   "cell_type": "markdown",
   "metadata": {},
   "source": [
    "Пишем программу в редакторе и запускаем целиком."
   ]
  },
  {
   "cell_type": "markdown",
   "metadata": {},
   "source": [
    "### Запуск из консоли\n",
    "Чтобы открыть консоль, нажимаем на свободном месте в папке с файлом: кнопка Shift и правая кнопка мыши. Далее Открыть окно powershell здесь.\n",
    "Выход из python консоли: Ctrl + Z потом Enter или команда exit()"
   ]
  },
  {
   "cell_type": "markdown",
   "metadata": {},
   "source": [
    "### Запуск в IDLE\n",
    "Для нас это основной способ работы с python в первую половину семестра. В нем нужно писать программу, запускать ее, пользоваться консолью для изучения python.\n",
    "\n",
    "**При написании программ не пользуйтесь вводом с клавиатуры, т.е. не пользуйтесь функцией input**. Если вы только начали изучать питон, все нужные значения вводите прямо перед началом программы. Например, `x = 42`. Если вы уже знаете python, все задачи нужно решать с помощью функций:"
   ]
  },
  {
   "cell_type": "markdown",
   "metadata": {},
   "source": [
    "**Дано x, вычислите x + 1**"
   ]
  },
  {
   "cell_type": "code",
   "execution_count": 26,
   "metadata": {},
   "outputs": [
    {
     "name": "stdout",
     "output_type": "stream",
     "text": [
      "11\n"
     ]
    }
   ],
   "source": [
    "# для начинающих\n",
    "x = 10\n",
    "print(x + 1)"
   ]
  },
  {
   "cell_type": "code",
   "execution_count": 29,
   "metadata": {},
   "outputs": [
    {
     "name": "stdout",
     "output_type": "stream",
     "text": [
      "11\n",
      "21\n",
      "43\n"
     ]
    }
   ],
   "source": [
    "# для всех, кто знает python:\n",
    "def task1(x):\n",
    "    return x + 1\n",
    "\n",
    "# тесты\n",
    "print(task1(10))\n",
    "print(task1(20))\n",
    "print(task1(42))"
   ]
  },
  {
   "cell_type": "markdown",
   "metadata": {},
   "source": [
    "### Среды разработки"
   ]
  },
  {
   "cell_type": "markdown",
   "metadata": {},
   "source": [
    "IDLE - на самом деле, простейшая среда разработка. Более продвинутые среды разработки подсказывают, что и как написать в коде, потому что они понимают код. Мы будем пользоваться PyCharm (IntelliJ IDEA). Будем пользоваться со второй половины семестра"
   ]
  },
  {
   "cell_type": "markdown",
   "metadata": {},
   "source": [
    "### Интерактивные блокноты"
   ]
  },
  {
   "cell_type": "markdown",
   "metadata": {},
   "source": [
    "Jupyter блокноты и аналоги (у меня сейчас именно jupyter блокнот). Форматированный текст и код, мультимедиа элементы и т.п."
   ]
  },
  {
   "cell_type": "code",
   "execution_count": 31,
   "metadata": {},
   "outputs": [
    {
     "name": "stdout",
     "output_type": "stream",
     "text": [
      "hello world!\n"
     ]
    }
   ],
   "source": [
    "print(\"hello world!\")"
   ]
  },
  {
   "cell_type": "code",
   "execution_count": 34,
   "metadata": {},
   "outputs": [
    {
     "data": {
      "text/plain": [
       "[<matplotlib.lines.Line2D at 0x1e4f1832eb8>]"
      ]
     },
     "execution_count": 34,
     "metadata": {},
     "output_type": "execute_result"
    },
    {
     "data": {
      "image/png": "[encoded data removed]",
      "text/plain": [
       "<Figure size 432x288 with 1 Axes>"
      ]
     },
     "metadata": {
      "needs_background": "light"
     },
     "output_type": "display_data"
    }
   ],
   "source": [
    "import matplotlib.pyplot as p\n",
    "p.plot([1, 2, 3, 4, 5], [10, 44, 23, 55, 50])"
   ]
  },
  {
   "cell_type": "markdown",
   "metadata": {},
   "source": [
    "Сайт с заданиями https://students.iposov.spb.ru"
   ]
  }
 ],
 "metadata": {
  "kernelspec": {
   "display_name": "Python 3",
   "language": "python",
   "name": "python3"
  },
  "language_info": {
   "codemirror_mode": {
    "name": "ipython",
    "version": 3
   },
   "file_extension": ".py",
   "mimetype": "text/x-python",
   "name": "python",
   "nbconvert_exporter": "python",
   "pygments_lexer": "ipython3",
   "version": "3.7.3"
  }
 },
 "nbformat": 4,
 "nbformat_minor": 2
}
