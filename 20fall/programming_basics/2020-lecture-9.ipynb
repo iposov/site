{
 "cells": [
  {
   "cell_type": "markdown",
   "metadata": {},
   "source": [
    "# Заголовок придумаем позже\n",
    "## Деструктуризация при присваивании"
   ]
  },
  {
   "cell_type": "code",
   "execution_count": 7,
   "metadata": {},
   "outputs": [
    {
     "name": "stdout",
     "output_type": "stream",
     "text": [
      "10 20 30\n",
      "10 20 30\n",
      "[0, 1, 2]\n",
      "0 1 2\n"
     ]
    }
   ],
   "source": [
    "a = [10, 20, 30]\n",
    "b = a\n",
    "x, y, z = a  # этим переменным присвоилось содержимое списка\n",
    "print(x, y, z)\n",
    "\n",
    "# Работает ли с кортежем?\n",
    "c = (10, 20, 30)  # с = 10, 20, 30\n",
    "x, y, z = c\n",
    "print(x, y, z)\n",
    "\n",
    "print(list(range(3)))\n",
    "x, y, z = range(3)  # тоже работает!!!\n",
    "print(x, y, z) "
   ]
  },
  {
   "cell_type": "markdown",
   "metadata": {},
   "source": [
    "Т.е. можно присваивать нескольким переменным через запятую перечисления. Надо только, чтобы переменных было столько же, сколько в перечислении.\n",
    "Это именно то, что происходило в цикле `for key, value in d.items()`. `items()` перечисляет пары (кортежи из двух элементов), получается, что мы `key, value = очередная пара из перечисления`."
   ]
  },
  {
   "cell_type": "markdown",
   "metadata": {},
   "source": [
    "Очень частый шаблон в коде, обмен значений переменных:"
   ]
  },
  {
   "cell_type": "code",
   "execution_count": 10,
   "metadata": {},
   "outputs": [],
   "source": [
    "a = 10\n",
    "b = 20\n",
    "# кстати, можно a, b = 10, 20\n",
    "a, b = 10, 20  # справа кортеж\n",
    "\n",
    "a, b = b, a  # !! Обмен значений. Справа кортеж, слева деструктуризация\n",
    "print(a, b)"
   ]
  },
  {
   "cell_type": "code",
   "execution_count": 9,
   "metadata": {},
   "outputs": [
    {
     "ename": "ValueError",
     "evalue": "too many values to unpack (expected 2)",
     "output_type": "error",
     "traceback": [
      "\u001b[0;31m---------------------------------------------------------------------------\u001b[0m",
      "\u001b[0;31mValueError\u001b[0m                                Traceback (most recent call last)",
      "\u001b[0;32m<ipython-input-9-9f5dbbbbcaa2>\u001b[0m in \u001b[0;36m<module>\u001b[0;34m\u001b[0m\n\u001b[0;32m----> 1\u001b[0;31m \u001b[0mx\u001b[0m\u001b[0;34m,\u001b[0m \u001b[0my\u001b[0m \u001b[0;34m=\u001b[0m \u001b[0;34m[\u001b[0m\u001b[0;36m10\u001b[0m\u001b[0;34m,\u001b[0m \u001b[0;36m20\u001b[0m\u001b[0;34m,\u001b[0m \u001b[0;36m30\u001b[0m\u001b[0;34m]\u001b[0m  \u001b[0;31m# ошибка. Слишком много значений для распаковки\u001b[0m\u001b[0;34m\u001b[0m\u001b[0;34m\u001b[0m\u001b[0m\n\u001b[0m",
      "\u001b[0;31mValueError\u001b[0m: too many values to unpack (expected 2)"
     ]
    }
   ],
   "source": [
    "x, y = [10, 20, 30]  # ошибка. Слишком много значений для распаковки"
   ]
  },
  {
   "cell_type": "markdown",
   "metadata": {},
   "source": [
    "Что же делать, если не знаем, например, заранее длину перечисления, и не можем написать нужное количество переменных слева."
   ]
  },
  {
   "cell_type": "code",
   "execution_count": 13,
   "metadata": {},
   "outputs": [
    {
     "name": "stdout",
     "output_type": "stream",
     "text": [
      "10 20 [30, 40, 50]\n"
     ]
    }
   ],
   "source": [
    "a = [10, 20, 30, 40, 50]\n",
    "x, y, *z = a  # здесь звездочка перед z означает, что в z присвоится весь остаток списка\n",
    "print(x, y, z)"
   ]
  },
  {
   "cell_type": "markdown",
   "metadata": {},
   "source": [
    "Неформально. Вообще, звездочка перед переменной означает превращение перечисления внутри переменной в «набор значений через запятую».\n",
    "\n",
    "Можно звездочкой перед переменной пользоваться и в других контекстах:"
   ]
  },
  {
   "cell_type": "code",
   "execution_count": 15,
   "metadata": {},
   "outputs": [
    {
     "name": "stdout",
     "output_type": "stream",
     "text": [
      "[10, 20, 30, 40, 50]\n"
     ]
    }
   ],
   "source": [
    "z = [30, 40, 50]\n",
    "a = [10, 20, *z]  # \n",
    "print(a)"
   ]
  },
  {
   "cell_type": "markdown",
   "metadata": {},
   "source": [
    "Проведем эксперименты, что если использовать не списки"
   ]
  },
  {
   "cell_type": "code",
   "execution_count": 18,
   "metadata": {},
   "outputs": [
    {
     "name": "stdout",
     "output_type": "stream",
     "text": [
      "10 20 [30, 40, 50]\n",
      "0 1 [2, 3, 4, 5, 6, 7, 8, 9]\n"
     ]
    }
   ],
   "source": [
    "a = (10, 20, 30, 40, 50)\n",
    "x, y, *z = a  # все равно *z присваивается список\n",
    "print(x, y, z)\n",
    "\n",
    "x, y, *z = range(10)  # и здесь присвоится список\n",
    "print(x, y, z)"
   ]
  },
  {
   "cell_type": "code",
   "execution_count": 22,
   "metadata": {},
   "outputs": [
    {
     "name": "stdout",
     "output_type": "stream",
     "text": [
      "[10, 20, 30, 10, 20, 30, 0, 1, 2, 3, 4, 'abc', 'hello', 'eee']\n",
      "{0, 1, 2, 3, 4, 'hello', 'eee', 10, 'abc', 20, 30}\n"
     ]
    }
   ],
   "source": [
    "z1 = [10, 20, 30]\n",
    "z2 = (10, 20, 30)\n",
    "z3 = range(5)\n",
    "z4 = {\"abc\", \"eee\", \"hello\"}\n",
    "\n",
    "print([*z1, *z2, *z3, *z4])  # распаковываем, содержимое z как будто пишется через запятую\n",
    "print({*z1, *z2, *z3, *z4})  # аналогично, создавая множества"
   ]
  },
  {
   "cell_type": "markdown",
   "metadata": {},
   "source": [
    "А со словарями?"
   ]
  },
  {
   "cell_type": "code",
   "execution_count": 29,
   "metadata": {},
   "outputs": [
    {
     "name": "stdout",
     "output_type": "stream",
     "text": [
      "a ['b', 'c', 'd']\n",
      "('a', 1) [('b', 2), ('c', 3), ('d', 4)]\n"
     ]
    }
   ],
   "source": [
    "d = {\"a\": 1, \"b\": 2, \"c\": 3, \"d\": 4}\n",
    "x, *y = d  # словарь если используется как перечисление, то это перечисление ключей\n",
    "print(x, y)\n",
    "\n",
    "x, *y = d.items()  # перечисление пар ключ/значение\n",
    "print(x, y)"
   ]
  }
 ],
 "metadata": {
  "kernelspec": {
   "display_name": "Python 3",
   "language": "python",
   "name": "python3"
  },
  "language_info": {
   "codemirror_mode": {
    "name": "ipython",
    "version": 3
   },
   "file_extension": ".py",
   "mimetype": "text/x-python",
   "name": "python",
   "nbconvert_exporter": "python",
   "pygments_lexer": "ipython3",
   "version": "3.7.3"
  }
 },
 "nbformat": 4,
 "nbformat_minor": 4
}
