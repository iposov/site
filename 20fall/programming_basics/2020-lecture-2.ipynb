{
 "cells": [
  {
   "cell_type": "markdown",
   "metadata": {},
   "source": [
    "# Типы данных в python\n",
    "Тип - множество значений и операций над ними.\n",
    "\n",
    "Нам нужно изучить для каждого типа: множество значений, литералы - способ записи значения типа в коде, допустимые операции над значениями типа.\n",
    "\n",
    "В Python можно не указывать значения типов, т.е. вы не пишете, что вводите переменную именно для целых чисел."
   ]
  },
  {
   "cell_type": "markdown",
   "metadata": {},
   "source": [
    "## Числовые типы\n",
    "### Тип int\n",
    "\n",
    "Значения - целые числа неограниченной точности. Можно хранить большие числа любого размера.\n",
    "\n",
    "Литералы:\n",
    "\n",
    "```\n",
    "1\n",
    "10\n",
    "42\n",
    "-5\n",
    "```\n",
    "\n",
    "### Тип float\n",
    "Вещественные числа, 8 байт, примерно 18 значащих цифр. 5.12345678901234567\n",
    "\n",
    "```\n",
    "1.5\n",
    "1.0\n",
    "1.\n",
    "5.1e9 # это значит 5.1 умноженное на 10 в степени 9, 5 миллиардов\n",
    "```\n",
    "\n",
    "\n",
    "### Операции над числовыми значениями"
   ]
  },
  {
   "cell_type": "code",
   "execution_count": 8,
   "metadata": {},
   "outputs": [
    {
     "name": "stdout",
     "output_type": "stream",
     "text": [
      "5\n",
      "-1\n",
      "6\n",
      "7.333333333333333\n",
      "7\n",
      "1\n",
      "1267650600228229401496703205376\n",
      "1.2676506002282294e+30\n"
     ]
    }
   ],
   "source": [
    "print(2 + 3)\n",
    "print(2 - 3)\n",
    "print(2 * 3)\n",
    "print(22 / 3)  # обычное деление\n",
    "print(22 // 3)  # целочисленное деление, результат целый\n",
    "print(15 % 7) # остаток от деления\n",
    "print(2 ** 100)  # степень, может быть большой ответ\n",
    "print(2. ** 100) # уже не так точно"
   ]
  },
  {
   "cell_type": "markdown",
   "metadata": {},
   "source": [
    "Названия типов почти всегда можно использовать как функции, которые преобразуют значения в этот тип:"
   ]
  },
  {
   "cell_type": "code",
   "execution_count": 14,
   "metadata": {},
   "outputs": [
    {
     "name": "stdout",
     "output_type": "stream",
     "text": [
      "2\n",
      "2.0\n",
      "123\n"
     ]
    },
    {
     "ename": "ValueError",
     "evalue": "invalid literal for int() with base 10: 'abc123'",
     "output_type": "error",
     "traceback": [
      "\u001b[1;31m---------------------------------------------------------------------------\u001b[0m",
      "\u001b[1;31mValueError\u001b[0m                                Traceback (most recent call last)",
      "\u001b[1;32m<ipython-input-14-aa15f4cac363>\u001b[0m in \u001b[0;36m<module>\u001b[1;34m\u001b[0m\n\u001b[0;32m      2\u001b[0m \u001b[0mprint\u001b[0m\u001b[1;33m(\u001b[0m\u001b[0mfloat\u001b[0m\u001b[1;33m(\u001b[0m\u001b[1;36m2\u001b[0m\u001b[1;33m)\u001b[0m\u001b[1;33m)\u001b[0m\u001b[1;33m\u001b[0m\u001b[1;33m\u001b[0m\u001b[0m\n\u001b[0;32m      3\u001b[0m \u001b[0mprint\u001b[0m\u001b[1;33m(\u001b[0m\u001b[0mint\u001b[0m\u001b[1;33m(\u001b[0m\u001b[1;34m\"123\"\u001b[0m\u001b[1;33m)\u001b[0m\u001b[1;33m)\u001b[0m \u001b[1;31m# превращает строку в число\u001b[0m\u001b[1;33m\u001b[0m\u001b[1;33m\u001b[0m\u001b[0m\n\u001b[1;32m----> 4\u001b[1;33m \u001b[0mprint\u001b[0m\u001b[1;33m(\u001b[0m\u001b[0mint\u001b[0m\u001b[1;33m(\u001b[0m\u001b[1;34m\"abc123\"\u001b[0m\u001b[1;33m)\u001b[0m\u001b[1;33m)\u001b[0m \u001b[1;31m# превращает в число\u001b[0m\u001b[1;33m\u001b[0m\u001b[1;33m\u001b[0m\u001b[0m\n\u001b[0m",
      "\u001b[1;31mValueError\u001b[0m: invalid literal for int() with base 10: 'abc123'"
     ]
    }
   ],
   "source": [
    "print(int(2.4))\n",
    "print(float(2))\n",
    "print(int(\"123\")) # превращает строку в число\n",
    "print(int(\"abc123\")) # превращает в число"
   ]
  },
  {
   "cell_type": "markdown",
   "metadata": {},
   "source": [
    "### Тип логический bool"
   ]
  },
  {
   "cell_type": "markdown",
   "metadata": {},
   "source": [
    "Всего два значения `True` и `False`. Операции:"
   ]
  },
  {
   "cell_type": "code",
   "execution_count": 16,
   "metadata": {},
   "outputs": [
    {
     "name": "stdout",
     "output_type": "stream",
     "text": [
      "True\n",
      "True\n",
      "False\n"
     ]
    }
   ],
   "source": [
    "print(True and True)  # логическое И\n",
    "print(True or True)  # ИЛИ\n",
    "print(not True) # отрицание\n",
    "# print(True ?? False) # подумайте, какая операция эквивалентна xor"
   ]
  },
  {
   "cell_type": "markdown",
   "metadata": {},
   "source": [
    "В логическое значение можно превратить любое другое значение:"
   ]
  },
  {
   "cell_type": "code",
   "execution_count": 21,
   "metadata": {},
   "outputs": [
    {
     "name": "stdout",
     "output_type": "stream",
     "text": [
      "True\n",
      "False\n",
      "True\n",
      "False\n",
      "True\n",
      "False\n"
     ]
    }
   ],
   "source": [
    "print(bool(42))\n",
    "print(bool(0)) # только 0 становится False\n",
    "print(bool(-1))\n",
    "print(bool(\"\")) # только пустая строка становится False\n",
    "print(bool(\" s\"))\n",
    "print(bool([])) # только пустой список - это False\n",
    "\n",
    "# Часто используют так\n",
    "s = \"abc\"\n",
    "if s:  # проверка, если строка не пустая. if выполнится только если s не пустая\n",
    "    pass # это значит, ничего не делать"
   ]
  },
  {
   "cell_type": "markdown",
   "metadata": {},
   "source": [
    "### Операции сравнения\n",
    "Универсальные операции, которые можно применять к любым значениям любых типов:"
   ]
  },
  {
   "cell_type": "code",
   "execution_count": 31,
   "metadata": {},
   "outputs": [
    {
     "name": "stdout",
     "output_type": "stream",
     "text": [
      "True\n",
      "False\n",
      "False\n",
      "True\n",
      "False\n",
      "0.30000000000000004\n",
      "True\n"
     ]
    }
   ],
   "source": [
    "print(2 == 2) # сравнение\n",
    "print(2 == \"abc\")\n",
    "print(2 == \"2\") # строка и число не совпадают\n",
    "print(2 == 2.0) # числовые типы сравниваются как числа\n",
    "print(0.1 + 0.2 == 0.3) # Не используйте сравнение вещественных !!\n",
    "print(0.1 + 0.2) # теряется точность при любой операции\n",
    "# как все-таки сравнивать вещественные?\n",
    "print(abs(0.1 + 0.2 - 0.3) < 1e-8) # совпадают с точность до 8 знаков"
   ]
  },
  {
   "cell_type": "markdown",
   "metadata": {},
   "source": [
    "Аналогично устроено `!=` - не равно.\n",
    "С типами, где значения упорядочены, работают такие операции сравнения:"
   ]
  },
  {
   "cell_type": "code",
   "execution_count": 60,
   "metadata": {},
   "outputs": [
    {
     "name": "stdout",
     "output_type": "stream",
     "text": [
      "True\n",
      "False\n",
      "False\n",
      "True\n",
      "True\n",
      "True\n",
      "True\n"
     ]
    }
   ],
   "source": [
    "print(1 < 2)\n",
    "print(1 > 2)\n",
    "print(1 >= 2)\n",
    "print(1 <= 2)\n",
    "print(\"abc\" >= \"aaaaaa\") # строки сравниваются по алфавиту.\n",
    "# Алфавитный порядок, как в словаре\n",
    "print(\"АБЯ\" >= \"АБВГД\")\n",
    "\n",
    "print(1 <= 2 <= 10)  # сразу два сравнения. Чтобы была истина, должны выполниться оба"
   ]
  },
  {
   "cell_type": "markdown",
   "metadata": {},
   "source": [
    "Замечание. Еще есть операция `is` и `not is`, они почти как `==` и `!=`. см. позже."
   ]
  },
  {
   "cell_type": "markdown",
   "metadata": {},
   "source": [
    "### Строки, тип называется str\n",
    "Строки - это последовательности символов. Символы в Python 3 это символы из стандарта UNICODE. В нем перечислены практически все символы и \"части символов\", которые могут встретиться на письме.\n",
    "\n",
    "Раньше в Python 2 и везде вместо юникода символы представлялись одним байтом, т.е. числом от 0 до 255. В тексте могло быть не более 256 разных символов.\n",
    "\n",
    "Литералы:"
   ]
  },
  {
   "cell_type": "code",
   "execution_count": 38,
   "metadata": {},
   "outputs": [
    {
     "data": {
      "text/plain": [
       "'\\nАналогично\\nс\\nодинарными\\n'"
      ]
     },
     "execution_count": 38,
     "metadata": {},
     "output_type": "execute_result"
    }
   ],
   "source": [
    "'abc' # в одинарных кавычках нужные символы\n",
    "\"abc\" # аналогично в двойных\n",
    "\"какой-то текст в кавычках: 'вот он', кончился\" # здесь было бы трудно сделать одинарные\n",
    "\n",
    "\"\"\"в тройных кавычках\n",
    "текс может располагаться на нескольких строках\n",
    "\"\"\"\n",
    "\n",
    "# \\n - это символ перевода строки, появится снизу в выводе\n",
    "'''\n",
    "Аналогично\n",
    "с\n",
    "одинарными\n",
    "'''"
   ]
  },
  {
   "cell_type": "markdown",
   "metadata": {},
   "source": [
    "Используйте f-строки, они позволяют вычислять выражение внутри строки:"
   ]
  },
  {
   "cell_type": "code",
   "execution_count": 40,
   "metadata": {},
   "outputs": [
    {
     "name": "stdout",
     "output_type": "stream",
     "text": [
      "У меня есть 42 яблока\n"
     ]
    }
   ],
   "source": [
    "x = 42\n",
    "print(f'У меня есть {x} яблока')"
   ]
  },
  {
   "cell_type": "markdown",
   "metadata": {},
   "source": [
    "Все, что в фигурных скобках внутри f-строки вычисляется и подставляется:"
   ]
  },
  {
   "cell_type": "code",
   "execution_count": 41,
   "metadata": {},
   "outputs": [
    {
     "name": "stdout",
     "output_type": "stream",
     "text": [
      "У меня есть 85 яблок\n"
     ]
    }
   ],
   "source": [
    "print(f'У меня есть {2*x + 1} яблок')"
   ]
  },
  {
   "cell_type": "markdown",
   "metadata": {},
   "source": [
    "Есть возможность управлять форматом вывода. По ссылке https://docs.python.org/3/library/string.html#formatspec (это документация, если найду более простую ссылку - заменю) можно прочитать подробно о форматах, нам понадобится указание количества цифр после запятой в вещественных числах:"
   ]
  },
  {
   "cell_type": "code",
   "execution_count": 45,
   "metadata": {},
   "outputs": [
    {
     "name": "stdout",
     "output_type": "stream",
     "text": [
      "pi примерно равно 3.142857142857143\n",
      "pi примерно равно 3.14\n"
     ]
    }
   ],
   "source": [
    "a = 22 / 7\n",
    "print(f'pi примерно равно {a}')\n",
    "# двоеточие указывает, что будет формат вывода. .2f означает 2 знака после запятой\n",
    "print(f'pi примерно равно {a :.2f}')"
   ]
  },
  {
   "cell_type": "markdown",
   "metadata": {},
   "source": [
    "**Экранированные символы**. Если в строке встречается символ `\\`, то он \"экранирует\" следующий, т.е. меняет его смысл:"
   ]
  },
  {
   "cell_type": "code",
   "execution_count": 46,
   "metadata": {},
   "outputs": [
    {
     "name": "stdout",
     "output_type": "stream",
     "text": [
      "a b c n \n",
      " a b c\n"
     ]
    }
   ],
   "source": [
    "# \\ меняет смысл буквы n после нее. Она становится \"переводом строки\"\n",
    "print(\"a b c n \\n a b c\")"
   ]
  },
  {
   "cell_type": "markdown",
   "metadata": {},
   "source": [
    "Мы будем использовать только `\\n`, `\\\\` - просто символ обратного слеша, `\\t` - табуляция, `\\u...` - это юникод символы с указанным кодом:"
   ]
  },
  {
   "cell_type": "code",
   "execution_count": 49,
   "metadata": {},
   "outputs": [
    {
     "name": "stdout",
     "output_type": "stream",
     "text": [
      "pi примерно равно 3.14\n",
      "π примерно равно 3.14\n",
      "π примерно равно 3.14\n"
     ]
    }
   ],
   "source": [
    "print(f'pi примерно равно {a :.2f}')\n",
    "print(f'π примерно равно {a :.2f}')\n",
    "print(f'\\u03C0 примерно равно {a :.2f}') # взял с https://unicode-table.com/ru/03C0/"
   ]
  },
  {
   "cell_type": "markdown",
   "metadata": {},
   "source": [
    "Еще бывают r-строки, в них не рабоает экранирование:"
   ]
  },
  {
   "cell_type": "code",
   "execution_count": 50,
   "metadata": {},
   "outputs": [
    {
     "name": "stdout",
     "output_type": "stream",
     "text": [
      "abc\\abc\n",
      "abc\n",
      "abc\\\\abc\\nabc\n"
     ]
    }
   ],
   "source": [
    "print('abc\\\\abc\\nabc')\n",
    "print(r'abc\\\\abc\\nabc')"
   ]
  },
  {
   "cell_type": "markdown",
   "metadata": {},
   "source": [
    "## Операции со строками"
   ]
  },
  {
   "cell_type": "code",
   "execution_count": 56,
   "metadata": {},
   "outputs": [
    {
     "name": "stdout",
     "output_type": "stream",
     "text": [
      "abcaaa\n",
      "5\n",
      "42 = 42\n",
      "axaxaxaxaxaxaxaxaxax\n"
     ]
    }
   ],
   "source": [
    "print(\"abc\" + \"aaa\") # соединение, конкатенация строк\n",
    "print(len(\"aaaaa\")) # это длина\n",
    "print(\"42 = \" + str(42)) # любое значение любого типа можно превратить в строку\n",
    "print(\"ax\" * 10) # повторение 10 раз"
   ]
  },
  {
   "cell_type": "markdown",
   "metadata": {},
   "source": [
    "Остальные операции устроены как `строка.операция(аргументы)`:"
   ]
  },
  {
   "cell_type": "code",
   "execution_count": 67,
   "metadata": {},
   "outputs": [
    {
     "name": "stdout",
     "output_type": "stream",
     "text": [
      "ABC\n",
      "abc\n",
      "Word Word\n",
      "Word word\n",
      "Istambul\n",
      "True\n",
      "False\n",
      "abc\n",
      "abc\n",
      "   abc\n",
      "abc###\n",
      "True\n",
      "True\n",
      "False\n",
      "False\n"
     ]
    }
   ],
   "source": [
    "print(\"abc\".upper()) # к верхнему регистру\n",
    "print(\"AbC\".lower()) # к нижнему регистру\n",
    "print(\"word word\".title()) # первая заглавная, остальные строчные\n",
    "print(\"word word\".capitalize()) # первая заглавная, остальные строчные\n",
    "# в разных языках эти функции работают по-разному\n",
    "print(\"istambul\".capitalize())\n",
    "print(\"abc\".endswith(\"bc\")) # проверка, кончается на\n",
    "print(\"abc\".startswith(\"bc\")) # проверка, начинается на\n",
    "print(\"  abc  \\n\".strip()) # удалить пробелы и переводы строк из начала\n",
    "# и конца строки. Есть еще lstrip и rstrip, удаляют только слева или \n",
    "# только справа. Можно указать, какие символы удалять из начала и конца:\n",
    "print(\"+*+*+abc*+*+*+\".strip('+*'))\n",
    "print(\"abc\".rjust(6)) # добавить пробелы слева до ширины 6.\n",
    "print(\"abc\".ljust(6, '#')) # можно указать ширину и символ заполнения\n",
    "print(\"sbc\".isalpha()) # проверка, что все символы это буквы\n",
    "print(\"123\".isdigit()) # проверка, что все символы это цифры\n",
    "print(\"Abc\".islower()) # проверка, что все нижнего регистра\n",
    "print(\"Abc\".isupper()) # проверка, что все верхнего регистра"
   ]
  },
  {
   "cell_type": "code",
   "execution_count": 68,
   "metadata": {},
   "outputs": [
    {
     "name": "stdout",
     "output_type": "stream",
     "text": [
      "1 2\n"
     ]
    }
   ],
   "source": [
    "print(1, 2)"
   ]
  },
  {
   "cell_type": "code",
   "execution_count": null,
   "metadata": {},
   "outputs": [],
   "source": []
  }
 ],
 "metadata": {
  "kernelspec": {
   "display_name": "Python 3",
   "language": "python",
   "name": "python3"
  },
  "language_info": {
   "codemirror_mode": {
    "name": "ipython",
    "version": 3
   },
   "file_extension": ".py",
   "mimetype": "text/x-python",
   "name": "python",
   "nbconvert_exporter": "python",
   "pygments_lexer": "ipython3",
   "version": "3.7.3"
  }
 },
 "nbformat": 4,
 "nbformat_minor": 2
}
