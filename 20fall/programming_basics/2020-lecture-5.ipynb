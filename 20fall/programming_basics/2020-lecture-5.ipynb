{
 "cells": [
  {
   "cell_type": "markdown",
   "metadata": {},
   "source": [
    "# Изменяемые и неизменяемые объекты\n",
    "\n",
    "Как хранятся данные в памяти:"
   ]
  },
  {
   "cell_type": "code",
   "execution_count": 3,
   "metadata": {},
   "outputs": [],
   "source": [
    "x = 10\n",
    "s = \"abc\"\n",
    "a = [100, \"xyz\", [0, 1]]"
   ]
  },
  {
   "cell_type": "markdown",
   "metadata": {},
   "source": [
    "Функция type возвращает информацию о типе выражения"
   ]
  },
  {
   "cell_type": "code",
   "execution_count": 4,
   "metadata": {},
   "outputs": [
    {
     "name": "stdout",
     "output_type": "stream",
     "text": [
      "<class 'int'>\n",
      "<class 'str'>\n",
      "<class 'list'>\n",
      "<class 'float'>\n",
      "<class 'int'>\n",
      "<class 'str'>\n"
     ]
    }
   ],
   "source": [
    "print(type(x))\n",
    "print(type(s))\n",
    "print(type(a))\n",
    "print(type(1.0))\n",
    "print(type(2**100))\n",
    "print(type(\"xxx\"))"
   ]
  },
  {
   "cell_type": "markdown",
   "metadata": {},
   "source": [
    "Неизменяемые объекты - это объекты, которые невозможно изменить. числа (int, float, ...), строки str - неизменяемые.\n",
    "\n",
    "А списки - изменяемые. Например, в списки можно добавлять элементы:"
   ]
  },
  {
   "cell_type": "code",
   "execution_count": 5,
   "metadata": {},
   "outputs": [],
   "source": [
    "a = [100, \"xyz\", [0, 1]]\n",
    "a.append(200)  # добавить в список"
   ]
  },
  {
   "cell_type": "markdown",
   "metadata": {},
   "source": [
    "![неизменяемые объекты 1](immutability-1.png)\n",
    "\n",
    "Строки точно нельзя менять?"
   ]
  },
  {
   "cell_type": "code",
   "execution_count": 6,
   "metadata": {},
   "outputs": [
    {
     "name": "stdout",
     "output_type": "stream",
     "text": [
      "abc!\n"
     ]
    }
   ],
   "source": [
    "s = \"abc\"\n",
    "s = s + \"!\"\n",
    "print(s)"
   ]
  },
  {
   "cell_type": "markdown",
   "metadata": {},
   "source": [
    "В памяти постоянно находится большое количество неиспользуемых объектов. После присваивания `s = s + \"!\"` объекты `\"!\"`, `\"abc\"` становятся ненужными.\n",
    "\n",
    "В python есть сборщик мусора, который периодически находит и удаляет неиспользуемые объекты. Для этого он находит объекты, на которые нельзя попасть по стрелочкам из используемых в данный момент переменных нашей программы.\n",
    "\n",
    "Напомню, что кроме списков есть еще кортежи (tuples), это то же, что и списки, но не изменяемый. У них, например, нет операции `append`. И они эффективней хранятся в памяти.\n",
    "\n",
    "## Примеры из практики"
   ]
  },
  {
   "cell_type": "code",
   "execution_count": 7,
   "metadata": {},
   "outputs": [
    {
     "name": "stdout",
     "output_type": "stream",
     "text": [
      "[10, 20, 30, 40]\n",
      "[10, 20, 30]\n",
      "[10, 20, 30, 40]\n"
     ]
    }
   ],
   "source": [
    "a = [10, 20, 30]\n",
    "b = [10, 20, 30]\n",
    "c = a\n",
    "a.append(40)\n",
    "print(a)\n",
    "print(b)\n",
    "print(c)"
   ]
  },
  {
   "cell_type": "code",
   "execution_count": 17,
   "metadata": {},
   "outputs": [
    {
     "name": "stdout",
     "output_type": "stream",
     "text": [
      "aaaaaaaaaa\n",
      "[10, 20, 30, 10, 20, 30, 10, 20, 30, 10, 20, 30]\n",
      "[[], [], [], []]\n",
      "[[42], [42], [42], [42]]\n"
     ]
    }
   ],
   "source": [
    "s = \"a\" * 10\n",
    "a = [10, 20, 30] * 4  # повтор\n",
    "print(s)\n",
    "print(a)\n",
    "x = [[]] * 4\n",
    "print(x)\n",
    "x[0].append(42)\n",
    "print(x)"
   ]
  },
  {
   "cell_type": "markdown",
   "metadata": {},
   "source": [
    "![неизменяемые объекты 2](immutability-2.png)\n",
    "\n",
    "Сами разберите пример, нарисуйте картинку того, что происходит в памяти. Подсказываю, что у вас будут переменные `a`, `b`, `а из функции f`, `a из функции g`. Т.е. переменная `a` и переменная `a` внутри функции `f`, это разные переменные."
   ]
  },
  {
   "cell_type": "code",
   "execution_count": null,
   "metadata": {},
   "outputs": [],
   "source": [
    "def f(a):\n",
    "    a.append(42)\n",
    "    print(\"inside f: a = \", a)\n",
    "    \n",
    "def g(a):\n",
    "    a = [42, 42, 42]\n",
    "    print(\"inside g: a = \", a)\n",
    "    \n",
    "a = [10, 20, 30]\n",
    "f(a)\n",
    "print(a)\n",
    "\n",
    "a = [10, 20, 30]\n",
    "g(a)\n",
    "print(a)\n",
    "\n",
    "# теперь еще раз, но будем пользоваться\n",
    "# переменной b. Это нужно, чтобы точно убедиться,\n",
    "# что вы не путаете внешнюю переменную a и\n",
    "# переменную a внутри функции\n",
    "\n",
    "b = [10, 20, 30]\n",
    "f(b)\n",
    "print(b)\n",
    "\n",
    "b = [10, 20, 30]\n",
    "g(b)\n",
    "print(b)\n",
    "\n",
    "# а что будет, если передать в функцию не\n",
    "# переменную?\n",
    "f([1, 2, 3])"
   ]
  },
  {
   "cell_type": "code",
   "execution_count": null,
   "metadata": {},
   "outputs": [],
   "source": []
  }
 ],
 "metadata": {
  "kernelspec": {
   "display_name": "Python 3",
   "language": "python",
   "name": "python3"
  },
  "language_info": {
   "codemirror_mode": {
    "name": "ipython",
    "version": 3
   },
   "file_extension": ".py",
   "mimetype": "text/x-python",
   "name": "python",
   "nbconvert_exporter": "python",
   "pygments_lexer": "ipython3",
   "version": "3.7.3"
  }
 },
 "nbformat": 4,
 "nbformat_minor": 2
}
